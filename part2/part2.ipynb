{
 "cells": [
  {
   "cell_type": "markdown",
   "id": "c5004748",
   "metadata": {
    "cell_marker": "\"\"\"",
    "lines_to_next_cell": 0,
    "title": "Imports and libraries"
   },
   "source": [
    "# Imports and library functions"
   ]
  },
  {
   "cell_type": "code",
   "execution_count": null,
   "id": "1baf57fd-4451-4f93-8a0c-b6d8ccd10c35",
   "metadata": {},
   "outputs": [],
   "source": [
    "%load_ext autoreload\n",
    "%autoreload 2"
   ]
  },
  {
   "cell_type": "code",
   "execution_count": null,
   "id": "e108ce46",
   "metadata": {},
   "outputs": [],
   "source": [
    "from dataclasses import dataclass\n",
    "from functools import reduce\n",
    "\n",
    "import matplotlib\n",
    "import matplotlib.pyplot as plt\n",
    "import pandas as pd\n",
    "import seaborn as sns\n",
    "from pandas import DataFrame\n",
    "from scipy.stats import pearsonr\n",
    "from sklearn.ensemble import RandomForestClassifier\n",
    "from sklearn.metrics import accuracy_score\n",
    "from sklearn.model_selection import GridSearchCV, train_test_split\n",
    "from sklearn.tree import plot_tree\n",
    "from ydata_profiling import ProfileReport\n",
    "\n",
    "from lib.chartSpecificData import survivalFrame\n",
    "from lib.clean import cleanAge, cleanEmbarked, cleanFare, dropIrrelevant\n",
    "from lib.featureEngineering import addFamilyCountData, addIsAdult\n",
    "from lib.numericConversion import (SexConversion, embarkedConverter,\n",
    "                                   sexConverter)"
   ]
  },
  {
   "cell_type": "markdown",
   "id": "7c3189ea",
   "metadata": {
    "cell_marker": "\"\"\""
   },
   "source": [
    "### matplotlib options\n",
    "\n",
    "This is just because my local setup is weird"
   ]
  },
  {
   "cell_type": "code",
   "execution_count": null,
   "id": "51e92922",
   "metadata": {},
   "outputs": [],
   "source": [
    "matplotlib.use(\"ipympl\")\n",
    "plt.ioff()"
   ]
  },
  {
   "cell_type": "markdown",
   "id": "c98721e0",
   "metadata": {
    "cell_marker": "\"\"\""
   },
   "source": [
    "## Compose\n",
    "a function that enables functional composition\n",
    "compose :: function, function, ... -> function\n",
    "\n",
    "compose(f, g, h, i)(x) is equivalent to i(h(g(f(x))))"
   ]
  },
  {
   "cell_type": "code",
   "execution_count": null,
   "id": "fb2aaeb4",
   "metadata": {},
   "outputs": [],
   "source": [
    "def compose(*funcs):\n",
    "    return reduce(lambda f, g: lambda x: g(f(x)), funcs, lambda x: x)"
   ]
  },
  {
   "cell_type": "markdown",
   "id": "ca5b6697",
   "metadata": {},
   "source": [
    "## Import The Data"
   ]
  },
  {
   "cell_type": "code",
   "execution_count": null,
   "id": "8576b6b9",
   "metadata": {},
   "outputs": [],
   "source": [
    "\n",
    "data: DataFrame = pd.read_csv(\n",
    "    \"https://raw.githubusercontent.com/datasciencedojo/datasets/refs/heads/master/titanic.csv\"\n",
    ")"
   ]
  },
  {
   "cell_type": "markdown",
   "id": "88ddeaed",
   "metadata": {
    "cell_marker": "\"\"\"",
    "lines_to_next_cell": 0,
    "title": "Data Exploration"
   },
   "source": [
    "# Data Exploration part 1"
   ]
  },
  {
   "cell_type": "markdown",
   "id": "6f1afc48",
   "metadata": {
    "cell_marker": "\"\"\"",
    "lines_to_next_cell": 0
   },
   "source": [
    "### Get the first few rows"
   ]
  },
  {
   "cell_type": "code",
   "execution_count": null,
   "id": "bfb00cb9",
   "metadata": {
    "lines_to_next_cell": 0
   },
   "outputs": [],
   "source": [
    "data.head()"
   ]
  },
  {
   "cell_type": "markdown",
   "id": "5a062d73",
   "metadata": {
    "cell_marker": "\"\"\"",
    "lines_to_next_cell": 0
   },
   "source": [
    "### Get the last few rows"
   ]
  },
  {
   "cell_type": "code",
   "execution_count": null,
   "id": "b7bb54ca",
   "metadata": {},
   "outputs": [],
   "source": [
    "data.tail()"
   ]
  },
  {
   "cell_type": "markdown",
   "id": "9f848a98",
   "metadata": {
    "cell_marker": "\"\"\""
   },
   "source": [
    "### Get summary, data types, that sort of thing"
   ]
  },
  {
   "cell_type": "code",
   "execution_count": null,
   "id": "69481552",
   "metadata": {},
   "outputs": [],
   "source": [
    "data.info()"
   ]
  },
  {
   "cell_type": "markdown",
   "id": "0da37056",
   "metadata": {
    "cell_marker": "\"\"\""
   },
   "source": [
    "### Get descriptive statistics"
   ]
  },
  {
   "cell_type": "code",
   "execution_count": null,
   "id": "cc365f0c",
   "metadata": {},
   "outputs": [],
   "source": [
    "data.describe()"
   ]
  },
  {
   "cell_type": "markdown",
   "id": "bc356b2b",
   "metadata": {
    "cell_marker": "\"\"\""
   },
   "source": [
    "### Get number of nulls"
   ]
  },
  {
   "cell_type": "code",
   "execution_count": null,
   "id": "3f02aae2",
   "metadata": {
    "lines_to_next_cell": 2
   },
   "outputs": [],
   "source": [
    "data.isnull().sum()"
   ]
  },
  {
   "cell_type": "markdown",
   "id": "51865707",
   "metadata": {
    "cell_marker": "\"\"\"",
    "lines_to_next_cell": 0
   },
   "source": [
    "### ydataprofiler"
   ]
  },
  {
   "cell_type": "code",
   "execution_count": null,
   "id": "6dfdd006",
   "metadata": {},
   "outputs": [],
   "source": [
    "# ProfileReport(data, title=\"Titanic Profiling Report\")\n",
    "\n",
    "# CCXZX%% data Preprocessing [markdown]\n",
    "\"\"\"\n",
    "# Data Preprocessing\n",
    "\n",
    "Here we are just getting rid of null values and dropping irrelevant data that we don't need\n",
    "\"\"\""
   ]
  },
  {
   "cell_type": "code",
   "execution_count": null,
   "id": "b4fb41d8",
   "metadata": {},
   "outputs": [],
   "source": [
    "cleanData = compose(cleanAge, cleanFare, cleanEmbarked, dropIrrelevant)\n",
    "convertDataToNumeric = compose(sexConverter, embarkedConverter)\n",
    "\n",
    "processedData = compose(cleanData, convertDataToNumeric)(data)\n",
    "processedDataRows = len(processedData)"
   ]
  },
  {
   "cell_type": "markdown",
   "id": "12e4070d",
   "metadata": {
    "cell_marker": "\"\"\""
   },
   "source": [
    "# Data Exploration Part II and Data Visualization"
   ]
  }
 ],
 "metadata": {
  "jupytext": {
   "formats": "ipynb,auto:percent"
  },
  "kernelspec": {
   "display_name": "Python 3 (ipykernel)",
   "language": "python",
   "name": "python3"
  },
  "language_info": {
   "codemirror_mode": {
    "name": "ipython",
    "version": 3
   },
   "file_extension": ".py",
   "mimetype": "text/x-python",
   "name": "python",
   "nbconvert_exporter": "python",
   "pygments_lexer": "ipython3",
   "version": "3.12.8"
  }
 },
 "nbformat": 4,
 "nbformat_minor": 5
}
